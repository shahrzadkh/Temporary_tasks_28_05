{
 "cells": [
  {
   "cell_type": "markdown",
   "id": "associate-coordination",
   "metadata": {},
   "source": [
    "You are being confronted with a dataset that contains events where patients suffered from a heart attack and a bit of their medical history. The business unit \"Human Pharma\" wants to develop an app for these patients in order to improve the situation for them.\n",
    " \n",
    "- Who are the people who most likely suffer from a heart attack?\n",
    "    - **Those with no specific control of Diet and no specific excersise routine, specially the smokers with occasional or regular alcohol consume and Obese subjects.**\n",
    "- Sketch the content of the app (please focus on the insights you have generated from the data and do not over-engineer)? \n",
    "\n",
    "**https://342LMA7IPWS2G2I2.anvil.app/K34VL7FA7ABGKALL4MF5J2EK**\n",
    "- How exactly would we improve the situation for the people?"
   ]
  },
  {
   "cell_type": "code",
   "execution_count": 1,
   "id": "micro-restaurant",
   "metadata": {},
   "outputs": [],
   "source": [
    "import os\n",
    "import pandas as pd\n",
    "import matplotlib.pyplot as plt\n",
    "%matplotlib inline"
   ]
  },
  {
   "cell_type": "code",
   "execution_count": 2,
   "id": "grave-wagner",
   "metadata": {},
   "outputs": [
    {
     "name": "stdout",
     "output_type": "stream",
     "text": [
      "Task1_cancer_prediction.ipynb\r\n",
      "Task2_Heart atack.ipynb\r\n",
      "\u001b[34mdata\u001b[m\u001b[m\r\n",
      "task 3_Postal Packages (do not spend more than 60 minutes on this task.ipynb\r\n"
     ]
    }
   ],
   "source": [
    "!ls"
   ]
  },
  {
   "cell_type": "code",
   "execution_count": 3,
   "id": "informational-housing",
   "metadata": {},
   "outputs": [],
   "source": [
    "os.chdir('data/task_2_heart_attack')\n"
   ]
  },
  {
   "cell_type": "code",
   "execution_count": 4,
   "id": "smoking-reporter",
   "metadata": {},
   "outputs": [],
   "source": [
    "data_orig = pd.read_csv('heart_attack_data.csv')"
   ]
  },
  {
   "cell_type": "code",
   "execution_count": 7,
   "id": "derived-amateur",
   "metadata": {},
   "outputs": [
    {
     "data": {
      "text/html": [
       "<div>\n",
       "<style scoped>\n",
       "    .dataframe tbody tr th:only-of-type {\n",
       "        vertical-align: middle;\n",
       "    }\n",
       "\n",
       "    .dataframe tbody tr th {\n",
       "        vertical-align: top;\n",
       "    }\n",
       "\n",
       "    .dataframe thead th {\n",
       "        text-align: right;\n",
       "    }\n",
       "</style>\n",
       "<table border=\"1\" class=\"dataframe\">\n",
       "  <thead>\n",
       "    <tr style=\"text-align: right;\">\n",
       "      <th></th>\n",
       "      <th>age</th>\n",
       "      <th>smoking</th>\n",
       "      <th>alcohol_use</th>\n",
       "      <th>physical_activity</th>\n",
       "      <th>diet</th>\n",
       "      <th>obesity</th>\n",
       "      <th>patient_id</th>\n",
       "      <th>gender</th>\n",
       "      <th>height</th>\n",
       "    </tr>\n",
       "  </thead>\n",
       "  <tbody>\n",
       "    <tr>\n",
       "      <th>count</th>\n",
       "      <td>200.000000</td>\n",
       "      <td>200</td>\n",
       "      <td>200</td>\n",
       "      <td>200</td>\n",
       "      <td>200</td>\n",
       "      <td>200</td>\n",
       "      <td>200.000000</td>\n",
       "      <td>200</td>\n",
       "      <td>200.000000</td>\n",
       "    </tr>\n",
       "    <tr>\n",
       "      <th>unique</th>\n",
       "      <td>NaN</td>\n",
       "      <td>3</td>\n",
       "      <td>3</td>\n",
       "      <td>6</td>\n",
       "      <td>5</td>\n",
       "      <td>2</td>\n",
       "      <td>NaN</td>\n",
       "      <td>2</td>\n",
       "      <td>NaN</td>\n",
       "    </tr>\n",
       "    <tr>\n",
       "      <th>top</th>\n",
       "      <td>NaN</td>\n",
       "      <td>no</td>\n",
       "      <td>no</td>\n",
       "      <td>no</td>\n",
       "      <td>no</td>\n",
       "      <td>no</td>\n",
       "      <td>NaN</td>\n",
       "      <td>female</td>\n",
       "      <td>NaN</td>\n",
       "    </tr>\n",
       "    <tr>\n",
       "      <th>freq</th>\n",
       "      <td>NaN</td>\n",
       "      <td>140</td>\n",
       "      <td>140</td>\n",
       "      <td>60</td>\n",
       "      <td>60</td>\n",
       "      <td>188</td>\n",
       "      <td>NaN</td>\n",
       "      <td>101</td>\n",
       "      <td>NaN</td>\n",
       "    </tr>\n",
       "    <tr>\n",
       "      <th>mean</th>\n",
       "      <td>72.980000</td>\n",
       "      <td>NaN</td>\n",
       "      <td>NaN</td>\n",
       "      <td>NaN</td>\n",
       "      <td>NaN</td>\n",
       "      <td>NaN</td>\n",
       "      <td>154.710000</td>\n",
       "      <td>NaN</td>\n",
       "      <td>173.605000</td>\n",
       "    </tr>\n",
       "    <tr>\n",
       "      <th>std</th>\n",
       "      <td>11.275428</td>\n",
       "      <td>NaN</td>\n",
       "      <td>NaN</td>\n",
       "      <td>NaN</td>\n",
       "      <td>NaN</td>\n",
       "      <td>NaN</td>\n",
       "      <td>87.345245</td>\n",
       "      <td>NaN</td>\n",
       "      <td>14.288801</td>\n",
       "    </tr>\n",
       "    <tr>\n",
       "      <th>min</th>\n",
       "      <td>38.000000</td>\n",
       "      <td>NaN</td>\n",
       "      <td>NaN</td>\n",
       "      <td>NaN</td>\n",
       "      <td>NaN</td>\n",
       "      <td>NaN</td>\n",
       "      <td>2.000000</td>\n",
       "      <td>NaN</td>\n",
       "      <td>150.000000</td>\n",
       "    </tr>\n",
       "    <tr>\n",
       "      <th>25%</th>\n",
       "      <td>66.000000</td>\n",
       "      <td>NaN</td>\n",
       "      <td>NaN</td>\n",
       "      <td>NaN</td>\n",
       "      <td>NaN</td>\n",
       "      <td>NaN</td>\n",
       "      <td>78.750000</td>\n",
       "      <td>NaN</td>\n",
       "      <td>161.000000</td>\n",
       "    </tr>\n",
       "    <tr>\n",
       "      <th>50%</th>\n",
       "      <td>74.500000</td>\n",
       "      <td>NaN</td>\n",
       "      <td>NaN</td>\n",
       "      <td>NaN</td>\n",
       "      <td>NaN</td>\n",
       "      <td>NaN</td>\n",
       "      <td>155.000000</td>\n",
       "      <td>NaN</td>\n",
       "      <td>172.500000</td>\n",
       "    </tr>\n",
       "    <tr>\n",
       "      <th>75%</th>\n",
       "      <td>82.000000</td>\n",
       "      <td>NaN</td>\n",
       "      <td>NaN</td>\n",
       "      <td>NaN</td>\n",
       "      <td>NaN</td>\n",
       "      <td>NaN</td>\n",
       "      <td>229.250000</td>\n",
       "      <td>NaN</td>\n",
       "      <td>185.000000</td>\n",
       "    </tr>\n",
       "    <tr>\n",
       "      <th>max</th>\n",
       "      <td>89.000000</td>\n",
       "      <td>NaN</td>\n",
       "      <td>NaN</td>\n",
       "      <td>NaN</td>\n",
       "      <td>NaN</td>\n",
       "      <td>NaN</td>\n",
       "      <td>299.000000</td>\n",
       "      <td>NaN</td>\n",
       "      <td>199.000000</td>\n",
       "    </tr>\n",
       "  </tbody>\n",
       "</table>\n",
       "</div>"
      ],
      "text/plain": [
       "               age smoking alcohol_use physical_activity diet obesity  \\\n",
       "count   200.000000     200         200               200  200     200   \n",
       "unique         NaN       3           3                 6    5       2   \n",
       "top            NaN      no          no                no   no      no   \n",
       "freq           NaN     140         140                60   60     188   \n",
       "mean     72.980000     NaN         NaN               NaN  NaN     NaN   \n",
       "std      11.275428     NaN         NaN               NaN  NaN     NaN   \n",
       "min      38.000000     NaN         NaN               NaN  NaN     NaN   \n",
       "25%      66.000000     NaN         NaN               NaN  NaN     NaN   \n",
       "50%      74.500000     NaN         NaN               NaN  NaN     NaN   \n",
       "75%      82.000000     NaN         NaN               NaN  NaN     NaN   \n",
       "max      89.000000     NaN         NaN               NaN  NaN     NaN   \n",
       "\n",
       "        patient_id  gender      height  \n",
       "count   200.000000     200  200.000000  \n",
       "unique         NaN       2         NaN  \n",
       "top            NaN  female         NaN  \n",
       "freq           NaN     101         NaN  \n",
       "mean    154.710000     NaN  173.605000  \n",
       "std      87.345245     NaN   14.288801  \n",
       "min       2.000000     NaN  150.000000  \n",
       "25%      78.750000     NaN  161.000000  \n",
       "50%     155.000000     NaN  172.500000  \n",
       "75%     229.250000     NaN  185.000000  \n",
       "max     299.000000     NaN  199.000000  "
      ]
     },
     "execution_count": 7,
     "metadata": {},
     "output_type": "execute_result"
    }
   ],
   "source": [
    "data_orig.describe(include='all')\n",
    "\n"
   ]
  },
  {
   "cell_type": "code",
   "execution_count": 8,
   "id": "honey-meaning",
   "metadata": {},
   "outputs": [
    {
     "data": {
      "text/html": [
       "<div>\n",
       "<style scoped>\n",
       "    .dataframe tbody tr th:only-of-type {\n",
       "        vertical-align: middle;\n",
       "    }\n",
       "\n",
       "    .dataframe tbody tr th {\n",
       "        vertical-align: top;\n",
       "    }\n",
       "\n",
       "    .dataframe thead th {\n",
       "        text-align: right;\n",
       "    }\n",
       "</style>\n",
       "<table border=\"1\" class=\"dataframe\">\n",
       "  <thead>\n",
       "    <tr style=\"text-align: right;\">\n",
       "      <th></th>\n",
       "      <th>age</th>\n",
       "      <th>smoking</th>\n",
       "      <th>alcohol_use</th>\n",
       "      <th>physical_activity</th>\n",
       "      <th>diet</th>\n",
       "      <th>obesity</th>\n",
       "      <th>gender</th>\n",
       "      <th>height</th>\n",
       "    </tr>\n",
       "  </thead>\n",
       "  <tbody>\n",
       "    <tr>\n",
       "      <th>0</th>\n",
       "      <td>82</td>\n",
       "      <td>no</td>\n",
       "      <td>no</td>\n",
       "      <td>running</td>\n",
       "      <td>balanced</td>\n",
       "      <td>no</td>\n",
       "      <td>male</td>\n",
       "      <td>154</td>\n",
       "    </tr>\n",
       "    <tr>\n",
       "      <th>1</th>\n",
       "      <td>76</td>\n",
       "      <td>no</td>\n",
       "      <td>no</td>\n",
       "      <td>running</td>\n",
       "      <td>vegan</td>\n",
       "      <td>no</td>\n",
       "      <td>female</td>\n",
       "      <td>191</td>\n",
       "    </tr>\n",
       "    <tr>\n",
       "      <th>2</th>\n",
       "      <td>76</td>\n",
       "      <td>no</td>\n",
       "      <td>no</td>\n",
       "      <td>swimming</td>\n",
       "      <td>vegetarian</td>\n",
       "      <td>no</td>\n",
       "      <td>female</td>\n",
       "      <td>164</td>\n",
       "    </tr>\n",
       "    <tr>\n",
       "      <th>3</th>\n",
       "      <td>83</td>\n",
       "      <td>no</td>\n",
       "      <td>no</td>\n",
       "      <td>running</td>\n",
       "      <td>vegetarian</td>\n",
       "      <td>no</td>\n",
       "      <td>male</td>\n",
       "      <td>187</td>\n",
       "    </tr>\n",
       "    <tr>\n",
       "      <th>4</th>\n",
       "      <td>69</td>\n",
       "      <td>no</td>\n",
       "      <td>no</td>\n",
       "      <td>exercise</td>\n",
       "      <td>vegetarian</td>\n",
       "      <td>no</td>\n",
       "      <td>female</td>\n",
       "      <td>163</td>\n",
       "    </tr>\n",
       "    <tr>\n",
       "      <th>...</th>\n",
       "      <td>...</td>\n",
       "      <td>...</td>\n",
       "      <td>...</td>\n",
       "      <td>...</td>\n",
       "      <td>...</td>\n",
       "      <td>...</td>\n",
       "      <td>...</td>\n",
       "      <td>...</td>\n",
       "    </tr>\n",
       "    <tr>\n",
       "      <th>195</th>\n",
       "      <td>66</td>\n",
       "      <td>no</td>\n",
       "      <td>no</td>\n",
       "      <td>fitness</td>\n",
       "      <td>vegan</td>\n",
       "      <td>no</td>\n",
       "      <td>female</td>\n",
       "      <td>165</td>\n",
       "    </tr>\n",
       "    <tr>\n",
       "      <th>196</th>\n",
       "      <td>74</td>\n",
       "      <td>no</td>\n",
       "      <td>no</td>\n",
       "      <td>exercise</td>\n",
       "      <td>vegetarian</td>\n",
       "      <td>no</td>\n",
       "      <td>female</td>\n",
       "      <td>157</td>\n",
       "    </tr>\n",
       "    <tr>\n",
       "      <th>197</th>\n",
       "      <td>89</td>\n",
       "      <td>no</td>\n",
       "      <td>no</td>\n",
       "      <td>swimming</td>\n",
       "      <td>vegan</td>\n",
       "      <td>no</td>\n",
       "      <td>female</td>\n",
       "      <td>174</td>\n",
       "    </tr>\n",
       "    <tr>\n",
       "      <th>198</th>\n",
       "      <td>85</td>\n",
       "      <td>no</td>\n",
       "      <td>no</td>\n",
       "      <td>exercise</td>\n",
       "      <td>balanced</td>\n",
       "      <td>no</td>\n",
       "      <td>male</td>\n",
       "      <td>195</td>\n",
       "    </tr>\n",
       "    <tr>\n",
       "      <th>199</th>\n",
       "      <td>59</td>\n",
       "      <td>often</td>\n",
       "      <td>often</td>\n",
       "      <td>no</td>\n",
       "      <td>no</td>\n",
       "      <td>yes</td>\n",
       "      <td>female</td>\n",
       "      <td>162</td>\n",
       "    </tr>\n",
       "  </tbody>\n",
       "</table>\n",
       "<p>200 rows × 8 columns</p>\n",
       "</div>"
      ],
      "text/plain": [
       "     age smoking alcohol_use physical_activity        diet obesity  gender  \\\n",
       "0     82      no          no           running    balanced      no    male   \n",
       "1     76      no          no           running       vegan      no  female   \n",
       "2     76      no          no          swimming  vegetarian      no  female   \n",
       "3     83      no          no           running  vegetarian      no    male   \n",
       "4     69      no          no          exercise  vegetarian      no  female   \n",
       "..   ...     ...         ...               ...         ...     ...     ...   \n",
       "195   66      no          no           fitness       vegan      no  female   \n",
       "196   74      no          no          exercise  vegetarian      no  female   \n",
       "197   89      no          no          swimming       vegan      no  female   \n",
       "198   85      no          no          exercise    balanced      no    male   \n",
       "199   59   often       often                no          no     yes  female   \n",
       "\n",
       "     height  \n",
       "0       154  \n",
       "1       191  \n",
       "2       164  \n",
       "3       187  \n",
       "4       163  \n",
       "..      ...  \n",
       "195     165  \n",
       "196     157  \n",
       "197     174  \n",
       "198     195  \n",
       "199     162  \n",
       "\n",
       "[200 rows x 8 columns]"
      ]
     },
     "execution_count": 8,
     "metadata": {},
     "output_type": "execute_result"
    }
   ],
   "source": [
    "data = data_orig.drop(['patient_id'], axis=1)\n",
    "data"
   ]
  },
  {
   "cell_type": "code",
   "execution_count": 9,
   "id": "unsigned-battlefield",
   "metadata": {},
   "outputs": [
    {
     "data": {
      "text/plain": [
       "<AxesSubplot:>"
      ]
     },
     "execution_count": 9,
     "metadata": {},
     "output_type": "execute_result"
    },
    {
     "data": {
      "image/png": "[encoded data removed]",
      "text/plain": [
       "<Figure size 432x288 with 1 Axes>"
      ]
     },
     "metadata": {
      "needs_background": "light"
     },
     "output_type": "display_data"
    }
   ],
   "source": [
    "data.gender.hist()"
   ]
  },
  {
   "cell_type": "code",
   "execution_count": 10,
   "id": "shared-player",
   "metadata": {},
   "outputs": [
    {
     "data": {
      "text/plain": [
       "<AxesSubplot:>"
      ]
     },
     "execution_count": 10,
     "metadata": {},
     "output_type": "execute_result"
    },
    {
     "data": {
      "image/png": "[encoded data removed]",
      "text/plain": [
       "<Figure size 432x288 with 1 Axes>"
      ]
     },
     "metadata": {
      "needs_background": "light"
     },
     "output_type": "display_data"
    }
   ],
   "source": [
    "data.smoking.hist()"
   ]
  },
  {
   "cell_type": "code",
   "execution_count": 11,
   "id": "strategic-ordering",
   "metadata": {},
   "outputs": [
    {
     "data": {
      "text/plain": [
       "<AxesSubplot:>"
      ]
     },
     "execution_count": 11,
     "metadata": {},
     "output_type": "execute_result"
    },
    {
     "data": {
      "image/png": "[encoded data removed]",
      "text/plain": [
       "<Figure size 432x288 with 1 Axes>"
      ]
     },
     "metadata": {
      "needs_background": "light"
     },
     "output_type": "display_data"
    }
   ],
   "source": [
    "data.diet.hist()"
   ]
  },
  {
   "cell_type": "code",
   "execution_count": 12,
   "id": "early-giant",
   "metadata": {},
   "outputs": [
    {
     "data": {
      "text/plain": [
       "<AxesSubplot:>"
      ]
     },
     "execution_count": 12,
     "metadata": {},
     "output_type": "execute_result"
    },
    {
     "data": {
      "image/png": "[encoded data removed]",
      "text/plain": [
       "<Figure size 432x288 with 1 Axes>"
      ]
     },
     "metadata": {
      "needs_background": "light"
     },
     "output_type": "display_data"
    }
   ],
   "source": [
    "\n",
    "data.physical_activity.hist()"
   ]
  },
  {
   "cell_type": "code",
   "execution_count": 13,
   "id": "brutal-oliver",
   "metadata": {},
   "outputs": [
    {
     "data": {
      "text/plain": [
       "<AxesSubplot:>"
      ]
     },
     "execution_count": 13,
     "metadata": {},
     "output_type": "execute_result"
    },
    {
     "data": {
      "image/png": "[encoded data removed]",
      "text/plain": [
       "<Figure size 432x288 with 1 Axes>"
      ]
     },
     "metadata": {
      "needs_background": "light"
     },
     "output_type": "display_data"
    }
   ],
   "source": [
    "data.alcohol_use.hist()"
   ]
  },
  {
   "cell_type": "code",
   "execution_count": 14,
   "id": "understanding-assignment",
   "metadata": {},
   "outputs": [],
   "source": [
    "data[\"physical_activity\"] = data[\"physical_activity\"].astype('category')\n",
    "data[\"physical_activity_num\"] = data[\"physical_activity\"].cat.codes\n",
    "\n",
    "data[\"alcohol_use\"] = data[\"alcohol_use\"].astype('category')\n",
    "data[\"smoking\"] = data[\"smoking\"].astype('category')\n",
    "data[\"gender\"] = data[\"gender\"].astype('category')\n",
    "data[\"obesity\"] = data[\"obesity\"].astype('category')\n",
    "\n",
    "data[\"diet\"] = data[\"diet\"].astype('category')\n",
    "\n",
    "\n",
    "\n",
    "\n",
    "\n",
    "\n",
    "\n",
    "\n",
    "\n"
   ]
  },
  {
   "cell_type": "code",
   "execution_count": 15,
   "id": "median-reverse",
   "metadata": {},
   "outputs": [],
   "source": [
    "bin_labels_3 = ['low', 'mid', 'high']\n",
    "data['quantile_age'] = pd.qcut(data['age'], q=3, labels=bin_labels_3)\n",
    "data['quantile_height'] = pd.qcut(data['height'], q=3, labels=bin_labels_3)\n"
   ]
  },
  {
   "cell_type": "markdown",
   "id": "ahead-livestock",
   "metadata": {},
   "source": []
  },
  {
   "cell_type": "code",
   "execution_count": 16,
   "id": "proof-consensus",
   "metadata": {},
   "outputs": [
    {
     "data": {
      "text/html": [
       "<div>\n",
       "<style scoped>\n",
       "    .dataframe tbody tr th:only-of-type {\n",
       "        vertical-align: middle;\n",
       "    }\n",
       "\n",
       "    .dataframe tbody tr th {\n",
       "        vertical-align: top;\n",
       "    }\n",
       "\n",
       "    .dataframe thead th {\n",
       "        text-align: right;\n",
       "    }\n",
       "</style>\n",
       "<table border=\"1\" class=\"dataframe\">\n",
       "  <thead>\n",
       "    <tr style=\"text-align: right;\">\n",
       "      <th></th>\n",
       "      <th>age</th>\n",
       "      <th>smoking</th>\n",
       "      <th>alcohol_use</th>\n",
       "      <th>physical_activity</th>\n",
       "      <th>diet</th>\n",
       "      <th>obesity</th>\n",
       "      <th>gender</th>\n",
       "      <th>height</th>\n",
       "      <th>physical_activity_num</th>\n",
       "      <th>quantile_age</th>\n",
       "      <th>quantile_height</th>\n",
       "    </tr>\n",
       "  </thead>\n",
       "  <tbody>\n",
       "    <tr>\n",
       "      <th>0</th>\n",
       "      <td>82</td>\n",
       "      <td>no</td>\n",
       "      <td>no</td>\n",
       "      <td>running</td>\n",
       "      <td>balanced</td>\n",
       "      <td>no</td>\n",
       "      <td>male</td>\n",
       "      <td>154</td>\n",
       "      <td>4</td>\n",
       "      <td>high</td>\n",
       "      <td>low</td>\n",
       "    </tr>\n",
       "    <tr>\n",
       "      <th>1</th>\n",
       "      <td>76</td>\n",
       "      <td>no</td>\n",
       "      <td>no</td>\n",
       "      <td>running</td>\n",
       "      <td>vegan</td>\n",
       "      <td>no</td>\n",
       "      <td>female</td>\n",
       "      <td>191</td>\n",
       "      <td>4</td>\n",
       "      <td>mid</td>\n",
       "      <td>high</td>\n",
       "    </tr>\n",
       "    <tr>\n",
       "      <th>2</th>\n",
       "      <td>76</td>\n",
       "      <td>no</td>\n",
       "      <td>no</td>\n",
       "      <td>swimming</td>\n",
       "      <td>vegetarian</td>\n",
       "      <td>no</td>\n",
       "      <td>female</td>\n",
       "      <td>164</td>\n",
       "      <td>5</td>\n",
       "      <td>mid</td>\n",
       "      <td>low</td>\n",
       "    </tr>\n",
       "    <tr>\n",
       "      <th>3</th>\n",
       "      <td>83</td>\n",
       "      <td>no</td>\n",
       "      <td>no</td>\n",
       "      <td>running</td>\n",
       "      <td>vegetarian</td>\n",
       "      <td>no</td>\n",
       "      <td>male</td>\n",
       "      <td>187</td>\n",
       "      <td>4</td>\n",
       "      <td>high</td>\n",
       "      <td>high</td>\n",
       "    </tr>\n",
       "    <tr>\n",
       "      <th>4</th>\n",
       "      <td>69</td>\n",
       "      <td>no</td>\n",
       "      <td>no</td>\n",
       "      <td>exercise</td>\n",
       "      <td>vegetarian</td>\n",
       "      <td>no</td>\n",
       "      <td>female</td>\n",
       "      <td>163</td>\n",
       "      <td>1</td>\n",
       "      <td>low</td>\n",
       "      <td>low</td>\n",
       "    </tr>\n",
       "    <tr>\n",
       "      <th>...</th>\n",
       "      <td>...</td>\n",
       "      <td>...</td>\n",
       "      <td>...</td>\n",
       "      <td>...</td>\n",
       "      <td>...</td>\n",
       "      <td>...</td>\n",
       "      <td>...</td>\n",
       "      <td>...</td>\n",
       "      <td>...</td>\n",
       "      <td>...</td>\n",
       "      <td>...</td>\n",
       "    </tr>\n",
       "    <tr>\n",
       "      <th>195</th>\n",
       "      <td>66</td>\n",
       "      <td>no</td>\n",
       "      <td>no</td>\n",
       "      <td>fitness</td>\n",
       "      <td>vegan</td>\n",
       "      <td>no</td>\n",
       "      <td>female</td>\n",
       "      <td>165</td>\n",
       "      <td>2</td>\n",
       "      <td>low</td>\n",
       "      <td>mid</td>\n",
       "    </tr>\n",
       "    <tr>\n",
       "      <th>196</th>\n",
       "      <td>74</td>\n",
       "      <td>no</td>\n",
       "      <td>no</td>\n",
       "      <td>exercise</td>\n",
       "      <td>vegetarian</td>\n",
       "      <td>no</td>\n",
       "      <td>female</td>\n",
       "      <td>157</td>\n",
       "      <td>1</td>\n",
       "      <td>mid</td>\n",
       "      <td>low</td>\n",
       "    </tr>\n",
       "    <tr>\n",
       "      <th>197</th>\n",
       "      <td>89</td>\n",
       "      <td>no</td>\n",
       "      <td>no</td>\n",
       "      <td>swimming</td>\n",
       "      <td>vegan</td>\n",
       "      <td>no</td>\n",
       "      <td>female</td>\n",
       "      <td>174</td>\n",
       "      <td>5</td>\n",
       "      <td>high</td>\n",
       "      <td>mid</td>\n",
       "    </tr>\n",
       "    <tr>\n",
       "      <th>198</th>\n",
       "      <td>85</td>\n",
       "      <td>no</td>\n",
       "      <td>no</td>\n",
       "      <td>exercise</td>\n",
       "      <td>balanced</td>\n",
       "      <td>no</td>\n",
       "      <td>male</td>\n",
       "      <td>195</td>\n",
       "      <td>1</td>\n",
       "      <td>high</td>\n",
       "      <td>high</td>\n",
       "    </tr>\n",
       "    <tr>\n",
       "      <th>199</th>\n",
       "      <td>59</td>\n",
       "      <td>often</td>\n",
       "      <td>often</td>\n",
       "      <td>no</td>\n",
       "      <td>no</td>\n",
       "      <td>yes</td>\n",
       "      <td>female</td>\n",
       "      <td>162</td>\n",
       "      <td>3</td>\n",
       "      <td>low</td>\n",
       "      <td>low</td>\n",
       "    </tr>\n",
       "  </tbody>\n",
       "</table>\n",
       "<p>200 rows × 11 columns</p>\n",
       "</div>"
      ],
      "text/plain": [
       "     age smoking alcohol_use physical_activity        diet obesity  gender  \\\n",
       "0     82      no          no           running    balanced      no    male   \n",
       "1     76      no          no           running       vegan      no  female   \n",
       "2     76      no          no          swimming  vegetarian      no  female   \n",
       "3     83      no          no           running  vegetarian      no    male   \n",
       "4     69      no          no          exercise  vegetarian      no  female   \n",
       "..   ...     ...         ...               ...         ...     ...     ...   \n",
       "195   66      no          no           fitness       vegan      no  female   \n",
       "196   74      no          no          exercise  vegetarian      no  female   \n",
       "197   89      no          no          swimming       vegan      no  female   \n",
       "198   85      no          no          exercise    balanced      no    male   \n",
       "199   59   often       often                no          no     yes  female   \n",
       "\n",
       "     height  physical_activity_num quantile_age quantile_height  \n",
       "0       154                      4         high             low  \n",
       "1       191                      4          mid            high  \n",
       "2       164                      5          mid             low  \n",
       "3       187                      4         high            high  \n",
       "4       163                      1          low             low  \n",
       "..      ...                    ...          ...             ...  \n",
       "195     165                      2          low             mid  \n",
       "196     157                      1          mid             low  \n",
       "197     174                      5         high             mid  \n",
       "198     195                      1         high            high  \n",
       "199     162                      3          low             low  \n",
       "\n",
       "[200 rows x 11 columns]"
      ]
     },
     "execution_count": 16,
     "metadata": {},
     "output_type": "execute_result"
    }
   ],
   "source": [
    "data"
   ]
  },
  {
   "cell_type": "code",
   "execution_count": 17,
   "id": "criminal-skiing",
   "metadata": {},
   "outputs": [],
   "source": [
    "import seaborn as sb\n"
   ]
  },
  {
   "cell_type": "code",
   "execution_count": 18,
   "id": "medical-dating",
   "metadata": {},
   "outputs": [],
   "source": [
    "female_data = data[data.gender == 'female']\n",
    "male_data = data[data.gender == 'male']"
   ]
  },
  {
   "cell_type": "code",
   "execution_count": 19,
   "id": "collected-bundle",
   "metadata": {},
   "outputs": [
    {
     "data": {
      "text/html": [
       "<div>\n",
       "<style scoped>\n",
       "    .dataframe tbody tr th:only-of-type {\n",
       "        vertical-align: middle;\n",
       "    }\n",
       "\n",
       "    .dataframe tbody tr th {\n",
       "        vertical-align: top;\n",
       "    }\n",
       "\n",
       "    .dataframe thead th {\n",
       "        text-align: right;\n",
       "    }\n",
       "</style>\n",
       "<table border=\"1\" class=\"dataframe\">\n",
       "  <thead>\n",
       "    <tr style=\"text-align: right;\">\n",
       "      <th></th>\n",
       "      <th>age</th>\n",
       "      <th>smoking</th>\n",
       "      <th>alcohol_use</th>\n",
       "      <th>physical_activity</th>\n",
       "      <th>diet</th>\n",
       "      <th>obesity</th>\n",
       "      <th>gender</th>\n",
       "      <th>height</th>\n",
       "      <th>physical_activity_num</th>\n",
       "      <th>quantile_age</th>\n",
       "      <th>quantile_height</th>\n",
       "    </tr>\n",
       "  </thead>\n",
       "  <tbody>\n",
       "    <tr>\n",
       "      <th>count</th>\n",
       "      <td>101.000000</td>\n",
       "      <td>101</td>\n",
       "      <td>101</td>\n",
       "      <td>101</td>\n",
       "      <td>101</td>\n",
       "      <td>101</td>\n",
       "      <td>101</td>\n",
       "      <td>101.000000</td>\n",
       "      <td>101.000000</td>\n",
       "      <td>101</td>\n",
       "      <td>101</td>\n",
       "    </tr>\n",
       "    <tr>\n",
       "      <th>unique</th>\n",
       "      <td>NaN</td>\n",
       "      <td>3</td>\n",
       "      <td>3</td>\n",
       "      <td>6</td>\n",
       "      <td>5</td>\n",
       "      <td>2</td>\n",
       "      <td>1</td>\n",
       "      <td>NaN</td>\n",
       "      <td>NaN</td>\n",
       "      <td>3</td>\n",
       "      <td>3</td>\n",
       "    </tr>\n",
       "    <tr>\n",
       "      <th>top</th>\n",
       "      <td>NaN</td>\n",
       "      <td>no</td>\n",
       "      <td>no</td>\n",
       "      <td>no</td>\n",
       "      <td>no</td>\n",
       "      <td>no</td>\n",
       "      <td>female</td>\n",
       "      <td>NaN</td>\n",
       "      <td>NaN</td>\n",
       "      <td>mid</td>\n",
       "      <td>mid</td>\n",
       "    </tr>\n",
       "    <tr>\n",
       "      <th>freq</th>\n",
       "      <td>NaN</td>\n",
       "      <td>74</td>\n",
       "      <td>74</td>\n",
       "      <td>27</td>\n",
       "      <td>27</td>\n",
       "      <td>93</td>\n",
       "      <td>101</td>\n",
       "      <td>NaN</td>\n",
       "      <td>NaN</td>\n",
       "      <td>37</td>\n",
       "      <td>40</td>\n",
       "    </tr>\n",
       "    <tr>\n",
       "      <th>mean</th>\n",
       "      <td>72.594059</td>\n",
       "      <td>NaN</td>\n",
       "      <td>NaN</td>\n",
       "      <td>NaN</td>\n",
       "      <td>NaN</td>\n",
       "      <td>NaN</td>\n",
       "      <td>NaN</td>\n",
       "      <td>173.742574</td>\n",
       "      <td>2.792079</td>\n",
       "      <td>NaN</td>\n",
       "      <td>NaN</td>\n",
       "    </tr>\n",
       "    <tr>\n",
       "      <th>std</th>\n",
       "      <td>10.186440</td>\n",
       "      <td>NaN</td>\n",
       "      <td>NaN</td>\n",
       "      <td>NaN</td>\n",
       "      <td>NaN</td>\n",
       "      <td>NaN</td>\n",
       "      <td>NaN</td>\n",
       "      <td>13.635728</td>\n",
       "      <td>1.544777</td>\n",
       "      <td>NaN</td>\n",
       "      <td>NaN</td>\n",
       "    </tr>\n",
       "    <tr>\n",
       "      <th>min</th>\n",
       "      <td>38.000000</td>\n",
       "      <td>NaN</td>\n",
       "      <td>NaN</td>\n",
       "      <td>NaN</td>\n",
       "      <td>NaN</td>\n",
       "      <td>NaN</td>\n",
       "      <td>NaN</td>\n",
       "      <td>151.000000</td>\n",
       "      <td>0.000000</td>\n",
       "      <td>NaN</td>\n",
       "      <td>NaN</td>\n",
       "    </tr>\n",
       "    <tr>\n",
       "      <th>25%</th>\n",
       "      <td>66.000000</td>\n",
       "      <td>NaN</td>\n",
       "      <td>NaN</td>\n",
       "      <td>NaN</td>\n",
       "      <td>NaN</td>\n",
       "      <td>NaN</td>\n",
       "      <td>NaN</td>\n",
       "      <td>163.000000</td>\n",
       "      <td>2.000000</td>\n",
       "      <td>NaN</td>\n",
       "      <td>NaN</td>\n",
       "    </tr>\n",
       "    <tr>\n",
       "      <th>50%</th>\n",
       "      <td>74.000000</td>\n",
       "      <td>NaN</td>\n",
       "      <td>NaN</td>\n",
       "      <td>NaN</td>\n",
       "      <td>NaN</td>\n",
       "      <td>NaN</td>\n",
       "      <td>NaN</td>\n",
       "      <td>172.000000</td>\n",
       "      <td>3.000000</td>\n",
       "      <td>NaN</td>\n",
       "      <td>NaN</td>\n",
       "    </tr>\n",
       "    <tr>\n",
       "      <th>75%</th>\n",
       "      <td>80.000000</td>\n",
       "      <td>NaN</td>\n",
       "      <td>NaN</td>\n",
       "      <td>NaN</td>\n",
       "      <td>NaN</td>\n",
       "      <td>NaN</td>\n",
       "      <td>NaN</td>\n",
       "      <td>185.000000</td>\n",
       "      <td>4.000000</td>\n",
       "      <td>NaN</td>\n",
       "      <td>NaN</td>\n",
       "    </tr>\n",
       "    <tr>\n",
       "      <th>max</th>\n",
       "      <td>89.000000</td>\n",
       "      <td>NaN</td>\n",
       "      <td>NaN</td>\n",
       "      <td>NaN</td>\n",
       "      <td>NaN</td>\n",
       "      <td>NaN</td>\n",
       "      <td>NaN</td>\n",
       "      <td>199.000000</td>\n",
       "      <td>5.000000</td>\n",
       "      <td>NaN</td>\n",
       "      <td>NaN</td>\n",
       "    </tr>\n",
       "  </tbody>\n",
       "</table>\n",
       "</div>"
      ],
      "text/plain": [
       "               age smoking alcohol_use physical_activity diet obesity  gender  \\\n",
       "count   101.000000     101         101               101  101     101     101   \n",
       "unique         NaN       3           3                 6    5       2       1   \n",
       "top            NaN      no          no                no   no      no  female   \n",
       "freq           NaN      74          74                27   27      93     101   \n",
       "mean     72.594059     NaN         NaN               NaN  NaN     NaN     NaN   \n",
       "std      10.186440     NaN         NaN               NaN  NaN     NaN     NaN   \n",
       "min      38.000000     NaN         NaN               NaN  NaN     NaN     NaN   \n",
       "25%      66.000000     NaN         NaN               NaN  NaN     NaN     NaN   \n",
       "50%      74.000000     NaN         NaN               NaN  NaN     NaN     NaN   \n",
       "75%      80.000000     NaN         NaN               NaN  NaN     NaN     NaN   \n",
       "max      89.000000     NaN         NaN               NaN  NaN     NaN     NaN   \n",
       "\n",
       "            height  physical_activity_num quantile_age quantile_height  \n",
       "count   101.000000             101.000000          101             101  \n",
       "unique         NaN                    NaN            3               3  \n",
       "top            NaN                    NaN          mid             mid  \n",
       "freq           NaN                    NaN           37              40  \n",
       "mean    173.742574               2.792079          NaN             NaN  \n",
       "std      13.635728               1.544777          NaN             NaN  \n",
       "min     151.000000               0.000000          NaN             NaN  \n",
       "25%     163.000000               2.000000          NaN             NaN  \n",
       "50%     172.000000               3.000000          NaN             NaN  \n",
       "75%     185.000000               4.000000          NaN             NaN  \n",
       "max     199.000000               5.000000          NaN             NaN  "
      ]
     },
     "execution_count": 19,
     "metadata": {},
     "output_type": "execute_result"
    }
   ],
   "source": [
    "female_data.describe(include='all')\n"
   ]
  },
  {
   "cell_type": "code",
   "execution_count": 55,
   "id": "furnished-newspaper",
   "metadata": {},
   "outputs": [
    {
     "data": {
      "text/html": [
       "<div>\n",
       "<style scoped>\n",
       "    .dataframe tbody tr th:only-of-type {\n",
       "        vertical-align: middle;\n",
       "    }\n",
       "\n",
       "    .dataframe tbody tr th {\n",
       "        vertical-align: top;\n",
       "    }\n",
       "\n",
       "    .dataframe thead th {\n",
       "        text-align: right;\n",
       "    }\n",
       "</style>\n",
       "<table border=\"1\" class=\"dataframe\">\n",
       "  <thead>\n",
       "    <tr style=\"text-align: right;\">\n",
       "      <th></th>\n",
       "      <th>age</th>\n",
       "      <th>smoking</th>\n",
       "      <th>alcohol_use</th>\n",
       "      <th>physical_activity</th>\n",
       "      <th>diet</th>\n",
       "      <th>obesity</th>\n",
       "      <th>gender</th>\n",
       "      <th>height</th>\n",
       "      <th>physical_activity_num</th>\n",
       "      <th>quantile_age</th>\n",
       "      <th>quantile_height</th>\n",
       "    </tr>\n",
       "  </thead>\n",
       "  <tbody>\n",
       "    <tr>\n",
       "      <th>count</th>\n",
       "      <td>99.000000</td>\n",
       "      <td>99</td>\n",
       "      <td>99</td>\n",
       "      <td>99</td>\n",
       "      <td>99</td>\n",
       "      <td>99</td>\n",
       "      <td>99</td>\n",
       "      <td>99.000000</td>\n",
       "      <td>99.000000</td>\n",
       "      <td>99</td>\n",
       "      <td>99</td>\n",
       "    </tr>\n",
       "    <tr>\n",
       "      <th>unique</th>\n",
       "      <td>NaN</td>\n",
       "      <td>3</td>\n",
       "      <td>3</td>\n",
       "      <td>6</td>\n",
       "      <td>5</td>\n",
       "      <td>2</td>\n",
       "      <td>1</td>\n",
       "      <td>NaN</td>\n",
       "      <td>NaN</td>\n",
       "      <td>3</td>\n",
       "      <td>3</td>\n",
       "    </tr>\n",
       "    <tr>\n",
       "      <th>top</th>\n",
       "      <td>NaN</td>\n",
       "      <td>no</td>\n",
       "      <td>no</td>\n",
       "      <td>no</td>\n",
       "      <td>no</td>\n",
       "      <td>no</td>\n",
       "      <td>male</td>\n",
       "      <td>NaN</td>\n",
       "      <td>NaN</td>\n",
       "      <td>high</td>\n",
       "      <td>low</td>\n",
       "    </tr>\n",
       "    <tr>\n",
       "      <th>freq</th>\n",
       "      <td>NaN</td>\n",
       "      <td>66</td>\n",
       "      <td>66</td>\n",
       "      <td>33</td>\n",
       "      <td>33</td>\n",
       "      <td>95</td>\n",
       "      <td>99</td>\n",
       "      <td>NaN</td>\n",
       "      <td>NaN</td>\n",
       "      <td>39</td>\n",
       "      <td>39</td>\n",
       "    </tr>\n",
       "    <tr>\n",
       "      <th>mean</th>\n",
       "      <td>73.373737</td>\n",
       "      <td>NaN</td>\n",
       "      <td>NaN</td>\n",
       "      <td>NaN</td>\n",
       "      <td>NaN</td>\n",
       "      <td>NaN</td>\n",
       "      <td>NaN</td>\n",
       "      <td>173.464646</td>\n",
       "      <td>2.868687</td>\n",
       "      <td>NaN</td>\n",
       "      <td>NaN</td>\n",
       "    </tr>\n",
       "    <tr>\n",
       "      <th>std</th>\n",
       "      <td>12.327658</td>\n",
       "      <td>NaN</td>\n",
       "      <td>NaN</td>\n",
       "      <td>NaN</td>\n",
       "      <td>NaN</td>\n",
       "      <td>NaN</td>\n",
       "      <td>NaN</td>\n",
       "      <td>14.994089</td>\n",
       "      <td>1.482183</td>\n",
       "      <td>NaN</td>\n",
       "      <td>NaN</td>\n",
       "    </tr>\n",
       "    <tr>\n",
       "      <th>min</th>\n",
       "      <td>38.000000</td>\n",
       "      <td>NaN</td>\n",
       "      <td>NaN</td>\n",
       "      <td>NaN</td>\n",
       "      <td>NaN</td>\n",
       "      <td>NaN</td>\n",
       "      <td>NaN</td>\n",
       "      <td>150.000000</td>\n",
       "      <td>0.000000</td>\n",
       "      <td>NaN</td>\n",
       "      <td>NaN</td>\n",
       "    </tr>\n",
       "    <tr>\n",
       "      <th>25%</th>\n",
       "      <td>66.500000</td>\n",
       "      <td>NaN</td>\n",
       "      <td>NaN</td>\n",
       "      <td>NaN</td>\n",
       "      <td>NaN</td>\n",
       "      <td>NaN</td>\n",
       "      <td>NaN</td>\n",
       "      <td>159.500000</td>\n",
       "      <td>2.000000</td>\n",
       "      <td>NaN</td>\n",
       "      <td>NaN</td>\n",
       "    </tr>\n",
       "    <tr>\n",
       "      <th>50%</th>\n",
       "      <td>76.000000</td>\n",
       "      <td>NaN</td>\n",
       "      <td>NaN</td>\n",
       "      <td>NaN</td>\n",
       "      <td>NaN</td>\n",
       "      <td>NaN</td>\n",
       "      <td>NaN</td>\n",
       "      <td>176.000000</td>\n",
       "      <td>3.000000</td>\n",
       "      <td>NaN</td>\n",
       "      <td>NaN</td>\n",
       "    </tr>\n",
       "    <tr>\n",
       "      <th>75%</th>\n",
       "      <td>83.000000</td>\n",
       "      <td>NaN</td>\n",
       "      <td>NaN</td>\n",
       "      <td>NaN</td>\n",
       "      <td>NaN</td>\n",
       "      <td>NaN</td>\n",
       "      <td>NaN</td>\n",
       "      <td>187.000000</td>\n",
       "      <td>4.000000</td>\n",
       "      <td>NaN</td>\n",
       "      <td>NaN</td>\n",
       "    </tr>\n",
       "    <tr>\n",
       "      <th>max</th>\n",
       "      <td>89.000000</td>\n",
       "      <td>NaN</td>\n",
       "      <td>NaN</td>\n",
       "      <td>NaN</td>\n",
       "      <td>NaN</td>\n",
       "      <td>NaN</td>\n",
       "      <td>NaN</td>\n",
       "      <td>199.000000</td>\n",
       "      <td>5.000000</td>\n",
       "      <td>NaN</td>\n",
       "      <td>NaN</td>\n",
       "    </tr>\n",
       "  </tbody>\n",
       "</table>\n",
       "</div>"
      ],
      "text/plain": [
       "              age smoking alcohol_use physical_activity diet obesity gender  \\\n",
       "count   99.000000      99          99                99   99      99     99   \n",
       "unique        NaN       3           3                 6    5       2      1   \n",
       "top           NaN      no          no                no   no      no   male   \n",
       "freq          NaN      66          66                33   33      95     99   \n",
       "mean    73.373737     NaN         NaN               NaN  NaN     NaN    NaN   \n",
       "std     12.327658     NaN         NaN               NaN  NaN     NaN    NaN   \n",
       "min     38.000000     NaN         NaN               NaN  NaN     NaN    NaN   \n",
       "25%     66.500000     NaN         NaN               NaN  NaN     NaN    NaN   \n",
       "50%     76.000000     NaN         NaN               NaN  NaN     NaN    NaN   \n",
       "75%     83.000000     NaN         NaN               NaN  NaN     NaN    NaN   \n",
       "max     89.000000     NaN         NaN               NaN  NaN     NaN    NaN   \n",
       "\n",
       "            height  physical_activity_num quantile_age quantile_height  \n",
       "count    99.000000              99.000000           99              99  \n",
       "unique         NaN                    NaN            3               3  \n",
       "top            NaN                    NaN         high             low  \n",
       "freq           NaN                    NaN           39              39  \n",
       "mean    173.464646               2.868687          NaN             NaN  \n",
       "std      14.994089               1.482183          NaN             NaN  \n",
       "min     150.000000               0.000000          NaN             NaN  \n",
       "25%     159.500000               2.000000          NaN             NaN  \n",
       "50%     176.000000               3.000000          NaN             NaN  \n",
       "75%     187.000000               4.000000          NaN             NaN  \n",
       "max     199.000000               5.000000          NaN             NaN  "
      ]
     },
     "execution_count": 55,
     "metadata": {},
     "output_type": "execute_result"
    }
   ],
   "source": [
    "male_data.describe(include='all')"
   ]
  },
  {
   "cell_type": "code",
   "execution_count": 20,
   "id": "polish-assistant",
   "metadata": {
    "scrolled": true
   },
   "outputs": [
    {
     "data": {
      "image/png": "[encoded data removed]",
      "text/plain": [
       "<Figure size 695.8x288 with 3 Axes>"
      ]
     },
     "metadata": {
      "needs_background": "light"
     },
     "output_type": "display_data"
    }
   ],
   "source": [
    "ax = sb.catplot(y=\"age\", x=\"alcohol_use\", hue=\"physical_activity\" ,data=female_data, palette=\"Set3\", \n",
    "                col=\"smoking\",kind=\"box\", height=4, aspect=.7)\n",
    "\n",
    "\n"
   ]
  },
  {
   "cell_type": "code",
   "execution_count": 21,
   "id": "human-fitting",
   "metadata": {},
   "outputs": [
    {
     "data": {
      "text/plain": [
       "<seaborn.axisgrid.FacetGrid at 0x7fe7a8ea3ac8>"
      ]
     },
     "execution_count": 21,
     "metadata": {},
     "output_type": "execute_result"
    },
    {
     "data": {
      "image/png": "[encoded data removed]",
      "text/plain": [
       "<Figure size 694.8x288 with 3 Axes>"
      ]
     },
     "metadata": {
      "needs_background": "light"
     },
     "output_type": "display_data"
    }
   ],
   "source": [
    "ax = sb.catplot(y=\"age\", x=\"alcohol_use\", hue=\"diet\" ,data=female_data, palette=\"Set3\", \n",
    "                col=\"smoking\",kind=\"box\", height=4, aspect=.7)\n",
    "\n",
    "ax.set_xticklabels(rotation= 45)"
   ]
  },
  {
   "cell_type": "code",
   "execution_count": 60,
   "id": "given-arrangement",
   "metadata": {},
   "outputs": [
    {
     "data": {
      "text/plain": [
       "<seaborn.axisgrid.FacetGrid at 0x7fe7a9685940>"
      ]
     },
     "execution_count": 60,
     "metadata": {},
     "output_type": "execute_result"
    },
    {
     "data": {
      "image/png": "[encoded data removed]",
      "text/plain": [
       "<Figure size 695.8x288 with 3 Axes>"
      ]
     },
     "metadata": {
      "needs_background": "light"
     },
     "output_type": "display_data"
    }
   ],
   "source": [
    "ax = sb.catplot(y=\"age\", x=\"diet\", hue=\"physical_activity\" ,data=female_data, palette=\"Set3\", \n",
    "                col=\"smoking\",kind=\"box\", height=4, aspect=.7)\n",
    "\n",
    "ax.set_xticklabels(rotation= 45)"
   ]
  },
  {
   "cell_type": "code",
   "execution_count": 22,
   "id": "velvet-hours",
   "metadata": {},
   "outputs": [
    {
     "data": {
      "text/plain": [
       "<seaborn.axisgrid.FacetGrid at 0x7fe78a90e9b0>"
      ]
     },
     "execution_count": 22,
     "metadata": {},
     "output_type": "execute_result"
    },
    {
     "data": {
      "image/png": "[encoded data removed]",
      "text/plain": [
       "<Figure size 658.05x288 with 3 Axes>"
      ]
     },
     "metadata": {
      "needs_background": "light"
     },
     "output_type": "display_data"
    }
   ],
   "source": [
    "ax = sb.catplot(y=\"age\", x=\"alcohol_use\", hue=\"obesity\" ,data=female_data, palette=\"Set3\", \n",
    "                col=\"smoking\",kind=\"box\", height=4, aspect=.7)\n",
    "\n",
    "ax.set_xticklabels(rotation= 45)"
   ]
  },
  {
   "cell_type": "code",
   "execution_count": 59,
   "id": "light-shape",
   "metadata": {},
   "outputs": [
    {
     "data": {
      "text/plain": [
       "<seaborn.axisgrid.FacetGrid at 0x7fe7787fb198>"
      ]
     },
     "execution_count": 59,
     "metadata": {},
     "output_type": "execute_result"
    },
    {
     "data": {
      "image/png": "[encoded data removed]",
      "text/plain": [
       "<Figure size 695.8x288 with 3 Axes>"
      ]
     },
     "metadata": {
      "needs_background": "light"
     },
     "output_type": "display_data"
    }
   ],
   "source": [
    "ax = sb.catplot(y=\"age\", x=\"obesity\", hue=\"physical_activity\" ,data=female_data, palette=\"Set3\", \n",
    "                col=\"smoking\",kind=\"box\", height=4, aspect=.7)\n",
    "\n",
    "ax.set_xticklabels(rotation= 45)"
   ]
  },
  {
   "cell_type": "code",
   "execution_count": 23,
   "id": "featured-throw",
   "metadata": {},
   "outputs": [],
   "source": [
    "clarity_color_table = pd.crosstab(index=female_data[\"diet\"], \n",
    "                                  columns=female_data[\"physical_activity\"])"
   ]
  },
  {
   "cell_type": "code",
   "execution_count": 24,
   "id": "minute-effectiveness",
   "metadata": {},
   "outputs": [],
   "source": [
    "#clarity_color_table.plot(kind=\"bar\", figsize=(8,8),stacked=True)"
   ]
  },
  {
   "cell_type": "code",
   "execution_count": 25,
   "id": "frank-contract",
   "metadata": {},
   "outputs": [
    {
     "data": {
      "text/html": [
       "<div>\n",
       "<style scoped>\n",
       "    .dataframe tbody tr th:only-of-type {\n",
       "        vertical-align: middle;\n",
       "    }\n",
       "\n",
       "    .dataframe tbody tr th {\n",
       "        vertical-align: top;\n",
       "    }\n",
       "\n",
       "    .dataframe thead th {\n",
       "        text-align: right;\n",
       "    }\n",
       "</style>\n",
       "<table border=\"1\" class=\"dataframe\">\n",
       "  <thead>\n",
       "    <tr style=\"text-align: right;\">\n",
       "      <th>physical_activity</th>\n",
       "      <th>dancing</th>\n",
       "      <th>exercise</th>\n",
       "      <th>fitness</th>\n",
       "      <th>no</th>\n",
       "      <th>running</th>\n",
       "      <th>swimming</th>\n",
       "    </tr>\n",
       "    <tr>\n",
       "      <th>diet</th>\n",
       "      <th></th>\n",
       "      <th></th>\n",
       "      <th></th>\n",
       "      <th></th>\n",
       "      <th></th>\n",
       "      <th></th>\n",
       "    </tr>\n",
       "  </thead>\n",
       "  <tbody>\n",
       "    <tr>\n",
       "      <th>balanced</th>\n",
       "      <td>4</td>\n",
       "      <td>4</td>\n",
       "      <td>2</td>\n",
       "      <td>0</td>\n",
       "      <td>3</td>\n",
       "      <td>3</td>\n",
       "    </tr>\n",
       "    <tr>\n",
       "      <th>no</th>\n",
       "      <td>0</td>\n",
       "      <td>0</td>\n",
       "      <td>0</td>\n",
       "      <td>27</td>\n",
       "      <td>0</td>\n",
       "      <td>0</td>\n",
       "    </tr>\n",
       "    <tr>\n",
       "      <th>no_sugar</th>\n",
       "      <td>2</td>\n",
       "      <td>3</td>\n",
       "      <td>5</td>\n",
       "      <td>0</td>\n",
       "      <td>5</td>\n",
       "      <td>4</td>\n",
       "    </tr>\n",
       "    <tr>\n",
       "      <th>vegan</th>\n",
       "      <td>5</td>\n",
       "      <td>1</td>\n",
       "      <td>6</td>\n",
       "      <td>0</td>\n",
       "      <td>9</td>\n",
       "      <td>4</td>\n",
       "    </tr>\n",
       "    <tr>\n",
       "      <th>vegetarian</th>\n",
       "      <td>0</td>\n",
       "      <td>4</td>\n",
       "      <td>2</td>\n",
       "      <td>0</td>\n",
       "      <td>4</td>\n",
       "      <td>4</td>\n",
       "    </tr>\n",
       "  </tbody>\n",
       "</table>\n",
       "</div>"
      ],
      "text/plain": [
       "physical_activity  dancing  exercise  fitness  no  running  swimming\n",
       "diet                                                                \n",
       "balanced                 4         4        2   0        3         3\n",
       "no                       0         0        0  27        0         0\n",
       "no_sugar                 2         3        5   0        5         4\n",
       "vegan                    5         1        6   0        9         4\n",
       "vegetarian               0         4        2   0        4         4"
      ]
     },
     "execution_count": 25,
     "metadata": {},
     "output_type": "execute_result"
    }
   ],
   "source": [
    "clarity_color_table"
   ]
  },
  {
   "cell_type": "code",
   "execution_count": 67,
   "id": "exclusive-million",
   "metadata": {},
   "outputs": [
    {
     "name": "stdout",
     "output_type": "stream",
     "text": [
      "\n",
      "mean_absolute_error of age of patients of best Ridge model: 8.893638442473089\n",
      "\n",
      "\n",
      "{'diet_no': [-0.7145430628764637], 'physical_activity_no': [-0.7145430628764636], 'smoking_often': [-0.5775065569815042], 'alcohol_use_rare': [-0.45074550668647156], 'physical_activity_dancing': [-0.44706857261648], 'gender_female': [-0.43601010104436333], 'obesity_yes': [-0.36719770798473156], 'alcohol_use_often': [-0.2637975561899918], 'diet_vegan': [-0.20545692215322295], 'physical_activity_swimming': [-0.17423927560437405], 'smoking_rare': [-0.1370365058949568], 'height': [0.09163777373334238], 'diet_vegetarian': [0.23039986276948685], 'diet_no_sugar': [0.2514121831282659], 'physical_activity_fitness': [0.2529959359492483], 'physical_activity_running': [0.3150370371057401], 'obesity_no': [0.3671977079847317], 'gender_male': [0.4360101010443627], 'diet_balanced': [0.4381879391319323], 'alcohol_use_no': [0.7145430628764637], 'smoking_no': [0.7145430628764639], 'physical_activity_exercise': [0.7678179380423281]}\n",
      "\n",
      "\n",
      "\n",
      "mean_absolute_error of age of patients of best Ridge model in the test set: 8.134617868485055\n"
     ]
    }
   ],
   "source": [
    "# idea: apply regression to predict age based on data:\n",
    "from sklearn.linear_model import LinearRegression, Ridge\n",
    "from sklearn.pipeline import Pipeline\n",
    "from sklearn.preprocessing import OneHotEncoder\n",
    "import numpy as np\n",
    "from sklearn.model_selection import GridSearchCV\n",
    "from sklearn.metrics import mean_absolute_error\n",
    "\n",
    "\n",
    "data_orig[\"physical_activity\"] = data_orig[\"physical_activity\"].astype('category')\n",
    "data_orig[\"alcohol_use\"] = data_orig[\"alcohol_use\"].astype('category')\n",
    "data_orig[\"smoking\"] = data_orig[\"smoking\"].astype('category')\n",
    "data_orig[\"gender\"] = data_orig[\"gender\"].astype('category')\n",
    "data_orig[\"obesity\"] = data_orig[\"obesity\"].astype('category')\n",
    "data_orig[\"diet\"] = data_orig[\"diet\"].astype('category')\n",
    "\n",
    "\n",
    "# train-test split:\n",
    "from sklearn.model_selection import train_test_split\n",
    "\n",
    "\n",
    "\n",
    "\n",
    "X = data_orig.drop(['age', 'patient_id'], axis=1)\n",
    "y_all = data_orig.age.values\n",
    "\n",
    "\n",
    "\n",
    "cat_cols = X.select_dtypes('category').dtypes.index.values.tolist()\n",
    "#['smoking_1', 'smoking_2', 'alcohol_use_1', 'alcohol_use_2', 'physical_activity_1', 'physical_activity_2', 'physical_activity_3', 'physical_activity_4', 'physical_activity_5','diet_1', 'diet_2' , 'diet_3', 'diet_4', 'obesity_1', 'gender_1']\n",
    "X_one_hot = X.drop(cat_cols,  axis=1)\n",
    "one_hot_obj =OneHotEncoder()#drop=[np.array([0]), np.array([0]), np.array([0]), np.array([0]),np.array([0]), np.array([0])])\n",
    "Z = one_hot_obj.fit_transform(X[cat_cols])\n",
    "dummy_cols = one_hot_obj.get_feature_names(cat_cols)\n",
    "df_Z_all = pd.DataFrame(data= Z.toarray(), columns=dummy_cols)\n",
    "df_Z_all['height'] = X_one_hot['height'].values\n",
    "\n",
    "\n",
    "\n",
    "\n",
    "df_Z, df_Z_test,y,  y_test = train_test_split(df_Z_all,y_all, test_size=0.33, random_state=42)\n",
    "\n",
    "\n",
    "    \n",
    "# Ridge Regression with gridsearch:\n",
    "n_alphas = 2000\n",
    "alphas = np.logspace(-10, 10, n_alphas)\n",
    "params = {'alpha': alphas}\n",
    "ridge_obj = Ridge(fit_intercept=True, normalize=False)\n",
    "gs_obj = GridSearchCV(param_grid= params, estimator=ridge_obj)\n",
    "gs_obj.fit(df_Z, y)\n",
    "y_pred = gs_obj.predict(df_Z)\n",
    "\n",
    "mae = mean_absolute_error(y, y_pred)\n",
    "\n",
    "print()\n",
    "print('mean_absolute_error of age of patients of best Ridge model:', mae)\n",
    "print()\n",
    "print()\n",
    "a = dict()\n",
    "for i, ix in zip(gs_obj.best_estimator_.coef_, df_Z.columns.tolist()):\n",
    "    #print(i)\n",
    "    #print(ix)\n",
    "    #print(ix , ': ', i)    \n",
    "    a[ix] = [i]\n",
    "#print(a)\n",
    "print(dict(sorted(a.items(), key=lambda item: item[1])))\n",
    "# Interpretation: Positive associations is good: \n",
    "#meaning that the patients had higher age at the time of disease \n",
    "print()\n",
    "print()\n",
    "\n",
    "# So for example:\n",
    "y_test_pred = gs_obj.predict(df_Z_test)\n",
    "\n",
    "mae = mean_absolute_error(y_test, y_test_pred)\n",
    "\n",
    "print()\n",
    "print('mean_absolute_error of age of patients of best Ridge model in the test set:', mae)\n",
    "\n",
    "# Interpretation: Positive associations is good: \n",
    "#meaning that the patients had higher age at the time of disease \n",
    "\n",
    "\n"
   ]
  },
  {
   "cell_type": "code",
   "execution_count": 97,
   "id": "systematic-hybrid",
   "metadata": {
    "scrolled": true
   },
   "outputs": [
    {
     "data": {
      "image/png": "[encoded data removed]",
      "text/plain": [
       "<Figure size 432x288 with 1 Axes>"
      ]
     },
     "metadata": {
      "needs_background": "light"
     },
     "output_type": "display_data"
    }
   ],
   "source": [
    "import matplotlib.pyplot as plt\n",
    "\n",
    "D = dict()\n",
    "\n",
    "count = 0# \n",
    "for k, v in dict(sorted(a.items(), key=lambda item: item[1])).items():\n",
    "    if count < len(a)/2:\n",
    "        D[k]=v[0]\n",
    "        count+=1\n",
    "    else:\n",
    "        pass\n",
    "plt.bar(range(len(D)), list(D.values()), align='center')\n",
    "plt.xticks(range(len(D)), list(D.keys()), rotation=90)\n",
    "plt.ylabel('Years of HA-advancement')\n",
    "plt.tight_layout()\n",
    "plt.savefig('/Users/skharabian/sciebo/CV_2020/Interviews/BohringerIngelheim/Technical_interview/data/Task_2_app_fig.png')"
   ]
  },
  {
   "cell_type": "code",
   "execution_count": 98,
   "id": "failing-pulse",
   "metadata": {},
   "outputs": [
    {
     "data": {
      "image/png": "[encoded data removed]",
      "text/plain": [
       "<Figure size 432x288 with 1 Axes>"
      ]
     },
     "metadata": {
      "needs_background": "light"
     },
     "output_type": "display_data"
    }
   ],
   "source": [
    "import matplotlib.pyplot as plt\n",
    "\n",
    "D = dict()\n",
    "\n",
    "count = 0# \n",
    "for k, v in dict(sorted(a.items(), key=lambda item: item[1])).items():\n",
    "    if 'physical' in k:\n",
    "        D[k]=v[0]\n",
    "        count+=1\n",
    "    else:\n",
    "        pass\n",
    "plt.bar(range(len(D)), list(D.values()), align='center')\n",
    "plt.xticks(range(len(D)), list(D.keys()), rotation=90)\n",
    "plt.ylabel('Years of HA-advancement')\n",
    "plt.tight_layout()\n",
    "plt.savefig('/Users/skharabian/sciebo/CV_2020/Interviews/BohringerIngelheim/Technical_interview/data/Task_2_app_fig2.png')"
   ]
  },
  {
   "cell_type": "code",
   "execution_count": 79,
   "id": "serial-astronomy",
   "metadata": {},
   "outputs": [
    {
     "data": {
      "text/plain": [
       "dict_values([[0.7145430628764639], [-0.5775065569815042], [-0.1370365058949568], [0.7145430628764637], [-0.2637975561899918], [-0.45074550668647156], [-0.44706857261648], [0.7678179380423281], [0.2529959359492483], [-0.7145430628764636], [0.3150370371057401], [-0.17423927560437405], [0.4381879391319323], [-0.7145430628764637], [0.2514121831282659], [-0.20545692215322295], [0.23039986276948685], [0.3671977079847317], [-0.36719770798473156], [-0.43601010104436333], [0.4360101010443627], [0.09163777373334238]])"
      ]
     },
     "execution_count": 79,
     "metadata": {},
     "output_type": "execute_result"
    }
   ],
   "source": [
    "a.values()"
   ]
  },
  {
   "cell_type": "markdown",
   "id": "stretch-tradition",
   "metadata": {},
   "source": [
    "## Interpretations and insights: \n",
    "\n",
    "- There are equal male and female subjects. \n",
    "\n",
    "- There are only less than 5 Obese_female and less than 10 Obese_male\n",
    "\n",
    "- **Ignoring any coef bellow 0.1 (i.e. ignoring hight):**\n",
    "\n",
    "    - It seems based on this data: Not smoking, not using alcohol, not being obese, prforming sport (preferably: excersice, fitness and running) and following a specific diet (preferaby: no sugar or vegeterian diet) can have positive influence on preventing heart attacks at a younger age. Also females tend to have higher risk of suffering frommheart attack at younger ages compared to men. \n",
    "    \n",
    "    \n",
    "    \n",
    "    \n",
    "    # App: \n",
    "    https://342LMA7IPWS2G2I2.anvil.app/K34VL7FA7ABGKALL4MF5J2EK\n"
   ]
  },
  {
   "cell_type": "code",
   "execution_count": 62,
   "id": "assured-vermont",
   "metadata": {},
   "outputs": [
    {
     "name": "stdout",
     "output_type": "stream",
     "text": [
      "Best protection in years 3.42\n",
      "worst case scenario in years -3.25\n"
     ]
    }
   ],
   "source": [
    "# Best protection: \n",
    "print('Best protection in years' , 0.71 + 0.71 + 0.767 + 0.43 + 0.367 + 0.436)\n",
    "print('worst case scenario in years' ,-0.577 - 0.45 -0.71 - 0.71 - 0.367 -0.436)"
   ]
  },
  {
   "cell_type": "code",
   "execution_count": 54,
   "id": "unlikely-painting",
   "metadata": {},
   "outputs": [
    {
     "data": {
      "text/plain": [
       "Ridge(alpha=99.08273796709352)"
      ]
     },
     "execution_count": 54,
     "metadata": {},
     "output_type": "execute_result"
    }
   ],
   "source": [
    "gs_obj.best_estimator_"
   ]
  },
  {
   "cell_type": "code",
   "execution_count": 48,
   "id": "engaged-capture",
   "metadata": {},
   "outputs": [
    {
     "data": {
      "text/plain": [
       "array(['no', 'often', 'rare'], dtype=object)"
      ]
     },
     "execution_count": 48,
     "metadata": {},
     "output_type": "execute_result"
    }
   ],
   "source": [
    "one_hot_obj.categories_[0]"
   ]
  },
  {
   "cell_type": "code",
   "execution_count": 28,
   "id": "micro-papua",
   "metadata": {},
   "outputs": [
    {
     "data": {
      "text/plain": [
       "(134, 22)"
      ]
     },
     "execution_count": 28,
     "metadata": {},
     "output_type": "execute_result"
    }
   ],
   "source": [
    "df_Z.shape"
   ]
  },
  {
   "cell_type": "code",
   "execution_count": null,
   "id": "peaceful-offset",
   "metadata": {},
   "outputs": [],
   "source": [
    "df_dummy_plot = df_Z.copy()\n",
    "df_dummy_plot['age'] = y\n",
    "\n",
    "sb.pairplot(df_dummy_plot)"
   ]
  },
  {
   "cell_type": "code",
   "execution_count": null,
   "id": "subtle-serve",
   "metadata": {},
   "outputs": [],
   "source": [
    "\n",
    "# Linear Regression model \n",
    "lr_obj = LinearRegression()\n",
    "lr_obj.fit(df_Z, y)\n",
    "y_pred = lr_obj.predict(df_Z)\n",
    "mae = mean_absolute_error(y, y_pred)\n",
    "print('mean_absolute_error of age of patients with LR:', mae)\n",
    "print('coefficients of LR:')\n",
    "for i, ix in zip(lr_obj.coef_, df_Z.columns.tolist()):\n",
    "    #print(i)\n",
    "    #print(ix)\n",
    "    print(ix , ': ', i)\n",
    "    "
   ]
  },
  {
   "cell_type": "code",
   "execution_count": null,
   "id": "alike-leone",
   "metadata": {},
   "outputs": [],
   "source": []
  },
  {
   "cell_type": "code",
   "execution_count": null,
   "id": "english-bangkok",
   "metadata": {},
   "outputs": [],
   "source": [
    "for i, ix in zip(lr_obj.coef_, df_Z.columns.tolist()):\n",
    "    #print(i)\n",
    "    #print(ix)\n",
    "    print(ix , ': ', i)"
   ]
  },
  {
   "cell_type": "code",
   "execution_count": null,
   "id": "conceptual-scheduling",
   "metadata": {},
   "outputs": [],
   "source": [
    "data.corr(method='spearman')"
   ]
  },
  {
   "cell_type": "code",
   "execution_count": null,
   "id": "combined-placement",
   "metadata": {},
   "outputs": [],
   "source": [
    "X"
   ]
  },
  {
   "cell_type": "code",
   "execution_count": null,
   "id": "corresponding-semester",
   "metadata": {},
   "outputs": [],
   "source": []
  }
 ],
 "metadata": {
  "kernelspec": {
   "display_name": "Python 3",
   "language": "python",
   "name": "python3"
  },
  "language_info": {
   "codemirror_mode": {
    "name": "ipython",
    "version": 3
   },
   "file_extension": ".py",
   "mimetype": "text/x-python",
   "name": "python",
   "nbconvert_exporter": "python",
   "pygments_lexer": "ipython3",
   "version": "3.6.12"
  }
 },
 "nbformat": 4,
 "nbformat_minor": 5
}
